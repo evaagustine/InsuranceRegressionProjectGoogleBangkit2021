{
  "nbformat": 4,
  "nbformat_minor": 0,
  "metadata": {
    "colab": {
      "name": "Insurance Regression Project Google Bangkit 2021.ipynb",
      "private_outputs": true,
      "provenance": [],
      "collapsed_sections": [
        "copyright",
        "UjAIOHZN1f_3",
        "ZsBn8Wj04QZv",
        "A40Ftvlb5UJd",
        "IPzk0QUD8KVX",
        "exercise-2-key-1"
      ],
      "toc_visible": true
    },
    "kernelspec": {
      "display_name": "Python 3",
      "name": "python3"
    }
  },
  "cells": [
    {
      "cell_type": "markdown",
      "metadata": {
        "id": "view-in-github"
      },
      "source": [
        "<a href=\"https://colab.research.google.com/github/google/applied-machine-learning-intensive/blob/master/content/03_regression/09_regression_project/colab.ipynb\" target=\"_parent\"><img src=\"https://colab.research.google.com/assets/colab-badge.svg\" alt=\"Open In Colab\"/></a>"
      ]
    },
    {
      "cell_type": "markdown",
      "metadata": {
        "id": "copyright"
      },
      "source": [
        "#### Copyright 2020 Google LLC."
      ]
    },
    {
      "cell_type": "code",
      "metadata": {
        "id": "cSdG7cSNFro-"
      },
      "source": [
        "# Licensed under the Apache License, Version 2.0 (the \"License\");\n",
        "# you may not use this file except in compliance with the License.\n",
        "# You may obtain a copy of the License at\n",
        "#\n",
        "# https://www.apache.org/licenses/LICENSE-2.0\n",
        "#\n",
        "# Unless required by applicable law or agreed to in writing, software\n",
        "# distributed under the License is distributed on an \"AS IS\" BASIS,\n",
        "# WITHOUT WARRANTIES OR CONDITIONS OF ANY KIND, either express or implied.\n",
        "# See the License for the specific language governing permissions and\n",
        "# limitations under the License."
      ],
      "execution_count": null,
      "outputs": []
    },
    {
      "cell_type": "markdown",
      "metadata": {
        "id": "_FdRu8E0F6EJ"
      },
      "source": [
        "# Regression Project"
      ]
    },
    {
      "cell_type": "markdown",
      "metadata": {
        "id": "Mm5d3zEpKE00"
      },
      "source": [
        "We have learned about regression and how to build regression models using both scikit-learn and TensorFlow. Now we'll build a regression model from start to finish. We will acquire data and perform exploratory data analysis and data preprocessing. We'll build and tune our model and measure how well our model generalizes."
      ]
    },
    {
      "cell_type": "markdown",
      "metadata": {
        "id": "SY3OnPx1zGWa"
      },
      "source": [
        "### Overview"
      ]
    },
    {
      "cell_type": "markdown",
      "metadata": {
        "id": "9JbgK7HnzJD_"
      },
      "source": [
        "*Friendly Insurance, Inc.* has requested we do a study for them to help predict the cost of their policyholders. They have provided us with sample [anonymous data](https://www.kaggle.com/mirichoi0218/insurance) about some of their policyholders for the previous year. The dataset includes the following information:\n",
        "\n",
        "Column   | Description\n",
        "---------|-------------\n",
        "age      | age of primary beneficiary\n",
        "sex      | gender of the primary beneficiary (male or female)\n",
        "bmi      | body mass index of the primary beneficiary\n",
        "children | number of children covered by the plan\n",
        "smoker   | is the primary beneficiary a smoker (yes or no)\n",
        "region   | geographic region of the beneficiaries (northeast, southeast, southwest, or northwest)\n",
        "charges  | costs to the insurance company\n",
        "\n",
        "We have been asked to create a model that, given the first six columns, can predict the charges the insurance company might incur.\n",
        "\n",
        "The company wants to see how accurate we can get with our predictions. If we can make a case for our model, they will provide us with the full dataset of all of their customers for the last ten years to see if we can improve on our model and possibly even predict cost per client year over year."
      ]
    },
    {
      "cell_type": "markdown",
      "metadata": {
        "id": "s6tiq72L5Q11"
      },
      "source": [
        "With the predicted costs, the company can estimate how much they will be charged compared to the money that they have. So when a customer comes with some criteria, they can easily predict the charges of its customer if it is already predicted by the model. And they can decide which they can provide it or not."
      ]
    },
    {
      "cell_type": "markdown",
      "metadata": {
        "id": "9LojR01P5TYf"
      },
      "source": [
        "---"
      ]
    },
    {
      "cell_type": "markdown",
      "metadata": {
        "id": "GVqj4S4tytvn"
      },
      "source": [
        "## Exploratory Data Analysis"
      ]
    },
    {
      "cell_type": "markdown",
      "metadata": {
        "id": "IAr2H2CJ60WX"
      },
      "source": [
        "Now that we have considered the societal implications of our model, we can start looking at the data to get a better understanding of what we are working with.\n",
        "\n",
        "The data we'll be using for this project can be [found on Kaggle](https://www.kaggle.com/mirichoi0218/insurance). Upload your `kaggle.json` file and run the code block below."
      ]
    },
    {
      "cell_type": "code",
      "metadata": {
        "id": "NiXw-ACkKlCT"
      },
      "source": [
        "! chmod 600 kaggle.json && (ls ~/.kaggle 2>/dev/null || mkdir ~/.kaggle) && mv kaggle.json ~/.kaggle/ && echo 'Done'"
      ],
      "execution_count": null,
      "outputs": []
    },
    {
      "cell_type": "markdown",
      "metadata": {
        "id": "CpYSfwuT8N3B"
      },
      "source": [
        "### Exercise 2: EDA and Data Preprocessing"
      ]
    },
    {
      "cell_type": "markdown",
      "metadata": {
        "id": "RgjffxoV7kxc"
      },
      "source": [
        "Using as many code and text blocks as you need, download the dataset, explore it, and do any model-independent preprocessing that you think is necessary. Feel free to use any of the tools for data analysis and visualization that we have covered in this course so far. Be sure to do individual column analysis and cross-column analysis. Explain your findings."
      ]
    },
    {
      "cell_type": "markdown",
      "metadata": {
        "id": "hIfb22Iq8Asx"
      },
      "source": [
        "#### **Student Solution**"
      ]
    },
    {
      "cell_type": "code",
      "metadata": {
        "id": "vk3q6P7q8D_V"
      },
      "source": [
        "# Add code and text blocks to explore the data and explain your work\n",
        "import pandas as pd\n",
        "import numpy as np\n",
        "\n",
        "df = pd.read_csv(\"insurance.csv\")\n",
        "df "
      ],
      "execution_count": null,
      "outputs": []
    },
    {
      "cell_type": "code",
      "metadata": {
        "id": "QFhYmDh8TfAf"
      },
      "source": [
        "df.isnull().any()"
      ],
      "execution_count": null,
      "outputs": []
    },
    {
      "cell_type": "code",
      "metadata": {
        "id": "xdoYIYPeT_b8"
      },
      "source": [
        "df.region.unique()"
      ],
      "execution_count": null,
      "outputs": []
    },
    {
      "cell_type": "code",
      "metadata": {
        "id": "y0Svkk4Fgepi"
      },
      "source": [
        "df.head()"
      ],
      "execution_count": null,
      "outputs": []
    },
    {
      "cell_type": "code",
      "metadata": {
        "id": "sewbDyh6gmcv"
      },
      "source": [
        "df.dtypes"
      ],
      "execution_count": null,
      "outputs": []
    },
    {
      "cell_type": "code",
      "metadata": {
        "id": "qnieiOkig0Om"
      },
      "source": [
        "df['bmi'].hist()"
      ],
      "execution_count": null,
      "outputs": []
    },
    {
      "cell_type": "code",
      "metadata": {
        "id": "LMPcY3H4hGuJ"
      },
      "source": [
        "df= pd.get_dummies(df, columns=['sex', 'region'])"
      ],
      "execution_count": null,
      "outputs": []
    },
    {
      "cell_type": "code",
      "metadata": {
        "id": "aOtlw0LOhWJV"
      },
      "source": [
        "from sklearn import preprocessing\n",
        "le = preprocessing.LabelEncoder()\n",
        "le = le.fit(df['smoker'])\n",
        "df['smoker']=le.transform(df['smoker'])\n",
        "df"
      ],
      "execution_count": null,
      "outputs": []
    },
    {
      "cell_type": "code",
      "metadata": {
        "id": "n0RShVIrg_vj"
      },
      "source": [
        "import matplotlib.pyplot as plt\n",
        "import seaborn as sns\n",
        "\n",
        "plt.figure(figsize=(12,10))\n",
        "_ = sns.heatmap(df.corr(), cmap='coolwarm', annot=True)"
      ],
      "execution_count": null,
      "outputs": []
    },
    {
      "cell_type": "code",
      "metadata": {
        "id": "iUXLjfPcohAT"
      },
      "source": [
        "df.describe(include='all')"
      ],
      "execution_count": null,
      "outputs": []
    },
    {
      "cell_type": "markdown",
      "metadata": {
        "id": "lWqQWpsvSoRM"
      },
      "source": [
        "Trying to do Normalization and standardization for the data"
      ]
    },
    {
      "cell_type": "code",
      "metadata": {
        "id": "OlZUFqUHqe0h"
      },
      "source": [
        "from sklearn.preprocessing import MinMaxScaler\n",
        "# define min max scaler\n",
        "normalization = MinMaxScaler()\n",
        "# transform data\n",
        "x_scaled = normalization.fit_transform(df.drop('charges', axis=1))"
      ],
      "execution_count": null,
      "outputs": []
    },
    {
      "cell_type": "code",
      "metadata": {
        "id": "0BfP7RuqrvBl"
      },
      "source": [
        "from sklearn.preprocessing import StandardScaler\n",
        "# define standard scaler\n",
        "scaler = StandardScaler()\n",
        "# transform data\n",
        "x_std = scaler.fit_transform(df.drop('charges', axis=1))"
      ],
      "execution_count": null,
      "outputs": []
    },
    {
      "cell_type": "markdown",
      "metadata": {
        "id": "jUo4DgfD8T7B"
      },
      "source": [
        "---"
      ]
    },
    {
      "cell_type": "markdown",
      "metadata": {
        "id": "Ac-YMzcBy1yM"
      },
      "source": [
        "## Modeling"
      ]
    },
    {
      "cell_type": "markdown",
      "metadata": {
        "id": "Mp3TkmalNcR-"
      },
      "source": [
        "Now that we understand our data a little better, we can build a model. We are trying to predict 'charges', which is a continuous variable. We'll use a regression model to predict 'charges'."
      ]
    },
    {
      "cell_type": "markdown",
      "metadata": {
        "id": "nmlwZpbUIHQZ"
      },
      "source": [
        "### Exercise 3: Modeling"
      ]
    },
    {
      "cell_type": "markdown",
      "metadata": {
        "id": "Cnc7Y47bIQG5"
      },
      "source": [
        "Using as many code and text blocks as you need, build a model that can predict 'charges' given the features that we have available. To do this, feel free to use any of the toolkits and models that we have explored so far.\n",
        "\n",
        "You'll be expected to:\n",
        "1. Prepare the data for the model (or models) that you choose. Remember that some of the data is categorical. In order for your model to use it, you'll need to convert the data to some numeric representation.\n",
        "1. Build a model or models and adjust parameters.\n",
        "1. Validate your model with holdout data. Hold out some percentage of your data (10-20%), and use it as a final validation of your model. Print the root mean squared error. We were able to get an RMSE between `3500` and `4000`, but your final RMSE will likely be different."
      ]
    },
    {
      "cell_type": "markdown",
      "metadata": {
        "id": "YjSCGA7HryJh"
      },
      "source": [
        "#### **Student Solution**"
      ]
    },
    {
      "cell_type": "markdown",
      "metadata": {
        "id": "99t3fIQLS0R8"
      },
      "source": [
        "###Linear Regression"
      ]
    },
    {
      "cell_type": "code",
      "metadata": {
        "id": "_GbQSP2JkxQK"
      },
      "source": [
        "from sklearn.model_selection import train_test_split\n",
        "X = df.drop('charges', axis=1)\n",
        "y = df['charges']\n",
        "X_train, X_test, y_train, y_test = train_test_split(X, y, test_size=0.2, random_state=0)"
      ],
      "execution_count": null,
      "outputs": []
    },
    {
      "cell_type": "code",
      "metadata": {
        "id": "5Sm-HIs5IL3F"
      },
      "source": [
        "# Add code and text blocks to build and validate a model and explain your work\n",
        "from sklearn.linear_model import LinearRegression\n",
        "\n",
        "lin_reg = LinearRegression()\n",
        "lin_reg.fit(X_train, y_train)\n",
        "y_predict = lin_reg.predict(X_test)"
      ],
      "execution_count": null,
      "outputs": []
    },
    {
      "cell_type": "code",
      "metadata": {
        "id": "vU9N84bVlgaA"
      },
      "source": [
        "plt.plot(X_test, y_test, 'b.')\n",
        "plt.plot(X_test, y_predict, 'r.')\n",
        "plt.show()"
      ],
      "execution_count": null,
      "outputs": []
    },
    {
      "cell_type": "code",
      "metadata": {
        "id": "fVsd6vYpmdi4"
      },
      "source": [
        "lin_reg.coef_, lin_reg.intercept_"
      ],
      "execution_count": null,
      "outputs": []
    },
    {
      "cell_type": "markdown",
      "metadata": {
        "id": "A23sNM-kS-Oh"
      },
      "source": [
        "####Performance Evaluation"
      ]
    },
    {
      "cell_type": "code",
      "metadata": {
        "id": "rkSEb4GSnfpM"
      },
      "source": [
        "from sklearn.metrics import r2_score, mean_squared_error, mean_absolute_error\n",
        "import math\n",
        "\n",
        "print(\"R2 Score:\", r2_score(y_test, y_predict))\n",
        "print(\"Mean Squarred Error: %.3f\" % mean_squared_error(y_test, y_predict))\n",
        "print(\"RMSE:\", math.sqrt(mean_squared_error(y_test, y_predict)))\n",
        "print(\"Mean Absolute Error : \" + str(mean_absolute_error(y_test,y_predict)))"
      ],
      "execution_count": null,
      "outputs": []
    },
    {
      "cell_type": "markdown",
      "metadata": {
        "id": "v3lIMsf9TFvq"
      },
      "source": [
        "####Predicted vs Actual Plot"
      ]
    },
    {
      "cell_type": "code",
      "metadata": {
        "id": "FNGYQbfFnl7l"
      },
      "source": [
        "plt.plot(y_predict, y_test, 'b.')\n",
        "plt.plot([y_predict.min(), y_predict.max()], [y_predict.min(), y_predict.max()], 'r-')\n",
        "plt.xlabel('Predicted')\n",
        "plt.ylabel('Actual')\n",
        "plt.show()"
      ],
      "execution_count": null,
      "outputs": []
    },
    {
      "cell_type": "markdown",
      "metadata": {
        "id": "_HRs9lG6TNrb"
      },
      "source": [
        "####Residual Plot"
      ]
    },
    {
      "cell_type": "code",
      "metadata": {
        "id": "-cNiSCJ4n7kP"
      },
      "source": [
        "RESIDUALS = y_test - y_predict\n",
        "plt.plot(y_predict, RESIDUALS, 'b.')\n",
        "plt.plot([0, y_predict.max()], [0, 0], 'r-')\n",
        "plt.xlabel('Predicted')\n",
        "plt.ylabel('Residual')\n",
        "plt.show()"
      ],
      "execution_count": null,
      "outputs": []
    },
    {
      "cell_type": "markdown",
      "metadata": {
        "id": "6uLrX6gzTVT8"
      },
      "source": [
        "###Neural Network"
      ]
    },
    {
      "cell_type": "code",
      "metadata": {
        "id": "IJaANEr6vVwY"
      },
      "source": [
        "from tensorflow import keras\n",
        "from tensorflow.keras import layers\n",
        "from tensorflow.keras.optimizers import Adam\n",
        "model = keras.Sequential([\n",
        "  layers.Dense(128, input_shape=[10]),\n",
        "  layers.Dense(64),\n",
        "  layers.Dense(32),\n",
        "  layers.Dense(1)\n",
        "])\n",
        "\n",
        "model.compile(\n",
        "  loss='mse',\n",
        "  optimizer=Adam(lr=0.01),\n",
        "  metrics=['mae', 'mse'],\n",
        ")\n",
        "\n",
        "model.fit(X_train,y_train, epochs=100, validation_split=0.2)"
      ],
      "execution_count": null,
      "outputs": []
    },
    {
      "cell_type": "code",
      "metadata": {
        "id": "aGz1dDUH0S99"
      },
      "source": [
        "predictions = model.predict(X_test)\n",
        "\n",
        "predictions"
      ],
      "execution_count": null,
      "outputs": []
    },
    {
      "cell_type": "markdown",
      "metadata": {
        "id": "yGh7Pm2YUVxu"
      },
      "source": [
        "####Performance Evaluation"
      ]
    },
    {
      "cell_type": "code",
      "metadata": {
        "id": "gFWCHukJ1CQJ"
      },
      "source": [
        "from sklearn.metrics import r2_score, mean_squared_error, mean_absolute_error\n",
        "import math\n",
        "\n",
        "print(\"R2 Score:\", r2_score(y_test, predictions))\n",
        "print(\"Mean Squarred Error: %.3f\" % mean_squared_error(y_test, predictions))\n",
        "print(\"RMSE:\", math.sqrt(mean_squared_error(y_test, predictions)))\n",
        "print(\"Mean Absolute Error : \" + str(mean_absolute_error(y_test,predictions)))"
      ],
      "execution_count": null,
      "outputs": []
    },
    {
      "cell_type": "markdown",
      "metadata": {
        "id": "t01X8SjuU0ca"
      },
      "source": [
        "####Predicted vs Actual Plot"
      ]
    },
    {
      "cell_type": "code",
      "metadata": {
        "id": "AJugf1-wUmhG"
      },
      "source": [
        "plt.plot(predictions, y_test, 'b.')\n",
        "plt.plot([predictions.min(), predictions.max()], [predictions.min(), predictions.max()], 'r-')\n",
        "plt.xlabel('Predicted')\n",
        "plt.ylabel('Actual')\n",
        "plt.show()"
      ],
      "execution_count": null,
      "outputs": []
    },
    {
      "cell_type": "markdown",
      "metadata": {
        "id": "m83ZCn_XU7Fh"
      },
      "source": [
        "####Residual Plots"
      ]
    },
    {
      "cell_type": "code",
      "metadata": {
        "id": "ScToYU3GU8yk"
      },
      "source": [
        "RESIDUALS = y_test - predictions.ravel()\n",
        "plt.plot(predictions, RESIDUALS, 'b.')\n",
        "plt.plot([0, predictions.max()], [0, 0], 'r-')\n",
        "plt.xlabel('Predicted')\n",
        "plt.ylabel('Residual')\n",
        "plt.show()"
      ],
      "execution_count": null,
      "outputs": []
    },
    {
      "cell_type": "markdown",
      "metadata": {
        "id": "xv1qnXsuV2I4"
      },
      "source": [
        "###Gradient Boosting Regressor"
      ]
    },
    {
      "cell_type": "code",
      "metadata": {
        "id": "3L5TkgqT1I8e"
      },
      "source": [
        "from sklearn.ensemble import GradientBoostingRegressor\n",
        "\n",
        "gbr = GradientBoostingRegressor()\n",
        "gbr.fit(X_train, y_train)\n",
        "gbr_pred = gbr.predict(X_test)"
      ],
      "execution_count": null,
      "outputs": []
    },
    {
      "cell_type": "markdown",
      "metadata": {
        "id": "1KCC7hQCWAOR"
      },
      "source": [
        "####Performance Evaluation"
      ]
    },
    {
      "cell_type": "code",
      "metadata": {
        "id": "1HsoZwkG4yo2"
      },
      "source": [
        "print(\"R2 Score:\", r2_score(y_test, gbr_pred))\n",
        "print(\"Mean Squarred Error:\", mean_squared_error(y_test, gbr_pred))\n",
        "print(\"RMSE:\", math.sqrt(mean_squared_error(y_test, gbr_pred)))\n",
        "print(\"Mean Absolute Error : \" + str(mean_absolute_error(y_test,gbr_pred)))"
      ],
      "execution_count": null,
      "outputs": []
    },
    {
      "cell_type": "markdown",
      "metadata": {
        "id": "Ytn9sAKvWFZN"
      },
      "source": [
        "####Predicted vs Actual Plot"
      ]
    },
    {
      "cell_type": "code",
      "metadata": {
        "id": "nJcejp7W43XA"
      },
      "source": [
        "plt.plot(gbr_pred, y_test, 'b.')\n",
        "plt.plot([gbr_pred.min(), gbr_pred.max()], [gbr_pred.min(), gbr_pred.max()], 'r-')\n",
        "plt.xlabel('Predicted')\n",
        "plt.ylabel('Actual')\n",
        "plt.show()"
      ],
      "execution_count": null,
      "outputs": []
    },
    {
      "cell_type": "code",
      "metadata": {
        "id": "QeJmCWx1WIlI"
      },
      "source": [
        "RESIDUALS = y_test - gbr_pred\n",
        "plt.plot(gbr_pred, RESIDUALS, 'b.')\n",
        "plt.plot([0, gbr_pred.max()], [0, 0], 'r-')\n",
        "plt.xlabel('Predicted')\n",
        "plt.ylabel('Residual')\n",
        "plt.show()"
      ],
      "execution_count": null,
      "outputs": []
    }
  ]
}